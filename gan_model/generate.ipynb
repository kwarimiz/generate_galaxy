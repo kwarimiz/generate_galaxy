{
 "cells": [
  {
   "cell_type": "code",
   "execution_count": 1,
   "id": "b8d6a6ff",
   "metadata": {},
   "outputs": [],
   "source": [
    "import torch\n",
    "import torchvision.utils as vutils\n",
    "from model import *"
   ]
  },
  {
   "cell_type": "code",
   "execution_count": 2,
   "id": "bd98d5c2",
   "metadata": {},
   "outputs": [
    {
     "data": {
      "text/plain": [
       "<All keys matched successfully>"
      ]
     },
     "execution_count": 2,
     "metadata": {},
     "output_type": "execute_result"
    }
   ],
   "source": [
    "num_gpu =4 \n",
    "device = torch.device(\"cuda:0\")\n",
    "num_batches = 20\n",
    "save_path = 'your data path'\n",
    "\n",
    "generator = Generator(num_gpu).to(device)\n",
    "generator= nn.DataParallel(generator, list(range(num_gpu)))\n",
    "# 加载预训练模型的权重\n",
    "generator.load_state_dict(torch.load('./pth/G_best.pth'))\n"
   ]
  },
  {
   "cell_type": "code",
   "execution_count": 3,
   "id": "20a433f8",
   "metadata": {},
   "outputs": [],
   "source": [
    "for i in range(num_batches):\n",
    "    # 生成一批随机噪声向量\n",
    "    torch.manual_seed(42) \n",
    "    noise = torch.randn(64, nz, 1, 1)\n",
    "\n",
    "    # 使用生成器生成新图像\n",
    "    with torch.no_grad():\n",
    "        fake_images = generator(noise)\n",
    "\n",
    "    # 将图像保存到文件中\n",
    "\n",
    "    for j in range(fake_images.shape[0]):\n",
    "\n",
    "        vutils.save_image(fake_images[j], f'{save_path}/{i}_{j}.png', normalize=True)\n"
   ]
  },
  {
   "cell_type": "code",
   "execution_count": null,
   "id": "27f03caa",
   "metadata": {},
   "outputs": [],
   "source": []
  }
 ],
 "metadata": {
  "kernelspec": {
   "display_name": "yolov5",
   "language": "python",
   "name": "python3"
  },
  "language_info": {
   "codemirror_mode": {
    "name": "ipython",
    "version": 3
   },
   "file_extension": ".py",
   "mimetype": "text/x-python",
   "name": "python",
   "nbconvert_exporter": "python",
   "pygments_lexer": "ipython3",
   "version": "3.8.13"
  }
 },
 "nbformat": 4,
 "nbformat_minor": 5
}
