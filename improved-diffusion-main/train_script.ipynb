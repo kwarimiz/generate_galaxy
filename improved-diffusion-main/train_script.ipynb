{
 "cells": [
  {
   "cell_type": "code",
   "execution_count": 27,
   "metadata": {},
   "outputs": [],
   "source": [
    "import os\n",
    "import numpy as np\n",
    "import matplotlib.pyplot as plt"
   ]
  },
  {
   "cell_type": "code",
   "execution_count": 33,
   "metadata": {},
   "outputs": [],
   "source": [
    "def get_script(key,vote,type):\n",
    "\n",
    "    dataset_name = os.path.join(key,vote)\n",
    "    \n",
    "    # script_path = f'train_script/{key}'\n",
    "\n",
    "    # if not os.path.exists(script_path):\n",
    "    #     os.mkdir(script_path)\n",
    "\n",
    "    if type == 'train':\n",
    "        script_name = f'scripts/train_{key}_{vote}.sh'\n",
    "\n",
    "        with open (script_name,'w') as f:\n",
    "\n",
    "            f.write('MODEL_FLAGS=\"--image_size 64 --num_channels 128 --num_res_blocks 3 --learn_sigma True --class_cond False\"\\n')\n",
    "            f.write('DIFFUSION_FLAGS=\"--diffusion_steps 2000 --noise_schedule linear\"\\n')\n",
    "            f.write('TRAIN_FLAGS=\"--lr 1e-4 --batch_size 5 \"\\n')\n",
    "            f.write(f'DATA_DIR=\"--data_dir ...\"\\n')\n",
    "            f.write(f'export OPENAI_LOGDIR=\" ...\"\\n')\n",
    "            f.write('mpiexec -n 8 python image_train.py $DATA_DIR $MODEL_FLAGS $DIFFUSION_FLAGS $TRAIN_FLAGS \\n')\n",
    "    else:\n",
    "        script_name = f'scripts/sample_{key}_{vote}.sh'\n",
    "        ema_path = []\n",
    "\n",
    "        for path in os.listdir(f'your model path...'):\n",
    "            if path.split('_')[0] == 'ema':\n",
    "                ema_path.append(path)\n",
    "\n",
    "        with open (script_name,'w') as f:\n",
    "\n",
    "            f.write('MODEL_FLAGS=\"--image_size 64 --num_channels 128 --num_res_blocks 3 --learn_sigma True --class_cond False\"\\n')\n",
    "            f.write('DIFFUSION_FLAGS=\"--diffusion_steps 2000 --noise_schedule linear\"\\n')\n",
    "            f.write(f'MODEL_PATH=\"--model_path ......\"\\n')\n",
    "            f.write(f'SAMPLE_FLAGS=\"--use_ddim True --timestep_respacing ddim250 --num_samples 128\"\\n')\n",
    "\n",
    "            f.write(f'export OPENAI_LOGDIR=\"  \"\\n')\n",
    "    \n",
    "            f.write('mpiexec -n 8 python image_sample.py  $MODEL_FLAGS $DIFFUSION_FLAGS $MODEL_PATH $SAMPLE_FLAGS\\n')"
   ]
  },
  {
   "cell_type": "code",
   "execution_count": 34,
   "metadata": {},
   "outputs": [],
   "source": [
    "key = 'round'\n",
    "vote = '0.9_0.99'\n",
    "type = 'sample'"
   ]
  },
  {
   "cell_type": "code",
   "execution_count": 35,
   "metadata": {},
   "outputs": [],
   "source": [
    "get_script(key,vote,type)"
   ]
  },
  {
   "cell_type": "code",
   "execution_count": 36,
   "metadata": {},
   "outputs": [],
   "source": [
    "def get_screen(key,vote,type):\n",
    "\n",
    "    sh_path = f'./screen_script/{key}'\n",
    "    if not os.path.exists(sh_path):\n",
    "        os.mkdir(sh_path)\n",
    "\n",
    "    sh_name = f'{type}_{vote}.sh'\n",
    "\n",
    "    with open(os.path.join(sh_path,sh_name),'w') as f:\n",
    "\n",
    "        f.write(f'screen -dmS {type}_{key}\\n')\n",
    "        f.write('sleep 1\\n')\n",
    "        f.write(f\"screen -r {type}_{key} -X stuff $'cd ./scripts\\\\n'\\n\")\n",
    "        f.write(f\"screen -r {type}_{key} -X stuff $'conda activate yolov5\\\\n'\\n\")\n",
    "        f.write(f\"screen -r {type}_{key} -X stuff $'bash {type}_{key}_{vote}.sh\\\\n'\\n\")"
   ]
  },
  {
   "cell_type": "code",
   "execution_count": 37,
   "metadata": {},
   "outputs": [],
   "source": [
    "get_screen(key,vote,type)"
   ]
  },
  {
   "cell_type": "code",
   "execution_count": 14,
   "metadata": {},
   "outputs": [],
   "source": [
    "!bash 'screen_script/{key}/{type}_{vote}.sh'"
   ]
  },
  {
   "cell_type": "code",
   "execution_count": null,
   "metadata": {},
   "outputs": [],
   "source": []
  }
 ],
 "metadata": {
  "kernelspec": {
   "display_name": "yolov5",
   "language": "python",
   "name": "python3"
  },
  "language_info": {
   "codemirror_mode": {
    "name": "ipython",
    "version": 3
   },
   "file_extension": ".py",
   "mimetype": "text/x-python",
   "name": "python",
   "nbconvert_exporter": "python",
   "pygments_lexer": "ipython3",
   "version": "3.8.13"
  },
  "orig_nbformat": 4
 },
 "nbformat": 4,
 "nbformat_minor": 2
}
